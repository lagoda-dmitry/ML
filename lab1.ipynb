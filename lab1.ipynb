{
  "nbformat": 4,
  "nbformat_minor": 0,
  "metadata": {
    "colab": {
      "name": "Untitled0.ipynb",
      "provenance": [],
      "collapsed_sections": [],
      "toc_visible": true
    },
    "kernelspec": {
      "name": "python3",
      "display_name": "Python 3"
    },
    "language_info": {
      "name": "python"
    }
  },
  "cells": [
    {
      "cell_type": "code",
      "metadata": {
        "id": "jvb8V7y93Xal"
      },
      "source": [
        "import matplotlib.pyplot as plt\n",
        "import numpy as np\n",
        "import pandas as pd"
      ],
      "execution_count": 694,
      "outputs": []
    },
    {
      "cell_type": "markdown",
      "metadata": {
        "id": "WZ7b_2z53dQ-"
      },
      "source": [
        "Загружаем датасет"
      ]
    },
    {
      "cell_type": "code",
      "metadata": {
        "colab": {
          "base_uri": "https://localhost:8080/",
          "height": 202
        },
        "id": "o7x-rw9K3f6Q",
        "outputId": "8b4a2d6c-733c-4c1f-bb11-74b9415f64bf"
      },
      "source": [
        "data = pd.read_csv(\"SomervilleHappinessSurvey2015.csv\", encoding='utf-16')\n",
        "data.head()"
      ],
      "execution_count": 695,
      "outputs": [
        {
          "output_type": "execute_result",
          "data": {
            "text/html": [
              "<div>\n",
              "<style scoped>\n",
              "    .dataframe tbody tr th:only-of-type {\n",
              "        vertical-align: middle;\n",
              "    }\n",
              "\n",
              "    .dataframe tbody tr th {\n",
              "        vertical-align: top;\n",
              "    }\n",
              "\n",
              "    .dataframe thead th {\n",
              "        text-align: right;\n",
              "    }\n",
              "</style>\n",
              "<table border=\"1\" class=\"dataframe\">\n",
              "  <thead>\n",
              "    <tr style=\"text-align: right;\">\n",
              "      <th></th>\n",
              "      <th>D</th>\n",
              "      <th>X1</th>\n",
              "      <th>X2</th>\n",
              "      <th>X3</th>\n",
              "      <th>X4</th>\n",
              "      <th>X5</th>\n",
              "      <th>X6</th>\n",
              "    </tr>\n",
              "  </thead>\n",
              "  <tbody>\n",
              "    <tr>\n",
              "      <th>0</th>\n",
              "      <td>0</td>\n",
              "      <td>3</td>\n",
              "      <td>3</td>\n",
              "      <td>3</td>\n",
              "      <td>4</td>\n",
              "      <td>2</td>\n",
              "      <td>4</td>\n",
              "    </tr>\n",
              "    <tr>\n",
              "      <th>1</th>\n",
              "      <td>0</td>\n",
              "      <td>3</td>\n",
              "      <td>2</td>\n",
              "      <td>3</td>\n",
              "      <td>5</td>\n",
              "      <td>4</td>\n",
              "      <td>3</td>\n",
              "    </tr>\n",
              "    <tr>\n",
              "      <th>2</th>\n",
              "      <td>1</td>\n",
              "      <td>5</td>\n",
              "      <td>3</td>\n",
              "      <td>3</td>\n",
              "      <td>3</td>\n",
              "      <td>3</td>\n",
              "      <td>5</td>\n",
              "    </tr>\n",
              "    <tr>\n",
              "      <th>3</th>\n",
              "      <td>0</td>\n",
              "      <td>5</td>\n",
              "      <td>4</td>\n",
              "      <td>3</td>\n",
              "      <td>3</td>\n",
              "      <td>3</td>\n",
              "      <td>5</td>\n",
              "    </tr>\n",
              "    <tr>\n",
              "      <th>4</th>\n",
              "      <td>0</td>\n",
              "      <td>5</td>\n",
              "      <td>4</td>\n",
              "      <td>3</td>\n",
              "      <td>3</td>\n",
              "      <td>3</td>\n",
              "      <td>5</td>\n",
              "    </tr>\n",
              "  </tbody>\n",
              "</table>\n",
              "</div>"
            ],
            "text/plain": [
              "   D  X1  X2  X3  X4  X5  X6\n",
              "0  0   3   3   3   4   2   4\n",
              "1  0   3   2   3   5   4   3\n",
              "2  1   5   3   3   3   3   5\n",
              "3  0   5   4   3   3   3   5\n",
              "4  0   5   4   3   3   3   5"
            ]
          },
          "metadata": {
            "tags": []
          },
          "execution_count": 695
        }
      ]
    },
    {
      "cell_type": "markdown",
      "metadata": {
        "id": "4JcbdxJr5V-5"
      },
      "source": [
        "Датасет содержит информацию о том является ли человек счастливым(параметр D в этом случае равен 1) или несчастливым, а также оценку условий жизни в конкретном районе, например, цену жилья, качество школ, доверие полиции по шкале от 1 до 5(параметры X1-X6). Соотвественно, ставим себе задачу оперделить счастлив ли человек или нет, зная ответ на эти вопросы.\n",
        "\n",
        "Подробное описание параметров:\n",
        "\n",
        "D = decision attribute (D) with values 0 (unhappy) and 1 (happy)\n",
        "\n",
        "X1 = the availability of information about the city services\n",
        "\n",
        "X2 = the cost of housing\n",
        "\n",
        "X3 = the overall quality of public schools\n",
        "\n",
        "X4 = your trust in the local police\n",
        "\n",
        "X5 = the maintenance of streets and sidewalks\n",
        "\n",
        "X6 = the availability of social community events"
      ]
    },
    {
      "cell_type": "code",
      "metadata": {
        "colab": {
          "base_uri": "https://localhost:8080/",
          "height": 294
        },
        "id": "THzfMX3S6YcD",
        "outputId": "d2dc38fb-cf91-40b2-c0a2-ceaa14b403fe"
      },
      "source": [
        "data.describe()"
      ],
      "execution_count": null,
      "outputs": [
        {
          "output_type": "execute_result",
          "data": {
            "text/html": [
              "<div>\n",
              "<style scoped>\n",
              "    .dataframe tbody tr th:only-of-type {\n",
              "        vertical-align: middle;\n",
              "    }\n",
              "\n",
              "    .dataframe tbody tr th {\n",
              "        vertical-align: top;\n",
              "    }\n",
              "\n",
              "    .dataframe thead th {\n",
              "        text-align: right;\n",
              "    }\n",
              "</style>\n",
              "<table border=\"1\" class=\"dataframe\">\n",
              "  <thead>\n",
              "    <tr style=\"text-align: right;\">\n",
              "      <th></th>\n",
              "      <th>D</th>\n",
              "      <th>X1</th>\n",
              "      <th>X2</th>\n",
              "      <th>X3</th>\n",
              "      <th>X4</th>\n",
              "      <th>X5</th>\n",
              "      <th>X6</th>\n",
              "    </tr>\n",
              "  </thead>\n",
              "  <tbody>\n",
              "    <tr>\n",
              "      <th>count</th>\n",
              "      <td>143.000000</td>\n",
              "      <td>143.000000</td>\n",
              "      <td>143.000000</td>\n",
              "      <td>143.000000</td>\n",
              "      <td>143.000000</td>\n",
              "      <td>143.000000</td>\n",
              "      <td>143.000000</td>\n",
              "    </tr>\n",
              "    <tr>\n",
              "      <th>mean</th>\n",
              "      <td>0.538462</td>\n",
              "      <td>4.314685</td>\n",
              "      <td>2.538462</td>\n",
              "      <td>3.265734</td>\n",
              "      <td>3.699301</td>\n",
              "      <td>3.615385</td>\n",
              "      <td>4.216783</td>\n",
              "    </tr>\n",
              "    <tr>\n",
              "      <th>std</th>\n",
              "      <td>0.500271</td>\n",
              "      <td>0.799820</td>\n",
              "      <td>1.118155</td>\n",
              "      <td>0.992586</td>\n",
              "      <td>0.888383</td>\n",
              "      <td>1.131639</td>\n",
              "      <td>0.848693</td>\n",
              "    </tr>\n",
              "    <tr>\n",
              "      <th>min</th>\n",
              "      <td>0.000000</td>\n",
              "      <td>1.000000</td>\n",
              "      <td>1.000000</td>\n",
              "      <td>1.000000</td>\n",
              "      <td>1.000000</td>\n",
              "      <td>1.000000</td>\n",
              "      <td>1.000000</td>\n",
              "    </tr>\n",
              "    <tr>\n",
              "      <th>25%</th>\n",
              "      <td>0.000000</td>\n",
              "      <td>4.000000</td>\n",
              "      <td>2.000000</td>\n",
              "      <td>3.000000</td>\n",
              "      <td>3.000000</td>\n",
              "      <td>3.000000</td>\n",
              "      <td>4.000000</td>\n",
              "    </tr>\n",
              "    <tr>\n",
              "      <th>50%</th>\n",
              "      <td>1.000000</td>\n",
              "      <td>5.000000</td>\n",
              "      <td>3.000000</td>\n",
              "      <td>3.000000</td>\n",
              "      <td>4.000000</td>\n",
              "      <td>4.000000</td>\n",
              "      <td>4.000000</td>\n",
              "    </tr>\n",
              "    <tr>\n",
              "      <th>75%</th>\n",
              "      <td>1.000000</td>\n",
              "      <td>5.000000</td>\n",
              "      <td>3.000000</td>\n",
              "      <td>4.000000</td>\n",
              "      <td>4.000000</td>\n",
              "      <td>4.000000</td>\n",
              "      <td>5.000000</td>\n",
              "    </tr>\n",
              "    <tr>\n",
              "      <th>max</th>\n",
              "      <td>1.000000</td>\n",
              "      <td>5.000000</td>\n",
              "      <td>5.000000</td>\n",
              "      <td>5.000000</td>\n",
              "      <td>5.000000</td>\n",
              "      <td>5.000000</td>\n",
              "      <td>5.000000</td>\n",
              "    </tr>\n",
              "  </tbody>\n",
              "</table>\n",
              "</div>"
            ],
            "text/plain": [
              "                D          X1          X2  ...          X4          X5          X6\n",
              "count  143.000000  143.000000  143.000000  ...  143.000000  143.000000  143.000000\n",
              "mean     0.538462    4.314685    2.538462  ...    3.699301    3.615385    4.216783\n",
              "std      0.500271    0.799820    1.118155  ...    0.888383    1.131639    0.848693\n",
              "min      0.000000    1.000000    1.000000  ...    1.000000    1.000000    1.000000\n",
              "25%      0.000000    4.000000    2.000000  ...    3.000000    3.000000    4.000000\n",
              "50%      1.000000    5.000000    3.000000  ...    4.000000    4.000000    4.000000\n",
              "75%      1.000000    5.000000    3.000000  ...    4.000000    4.000000    5.000000\n",
              "max      1.000000    5.000000    5.000000  ...    5.000000    5.000000    5.000000\n",
              "\n",
              "[8 rows x 7 columns]"
            ]
          },
          "metadata": {
            "tags": []
          },
          "execution_count": 13
        }
      ]
    },
    {
      "cell_type": "markdown",
      "metadata": {
        "id": "G2U9pElx6nUJ"
      },
      "source": [
        "Можно видеть, что пропусков в данных нет, выбросов также не наблюдается"
      ]
    },
    {
      "cell_type": "code",
      "metadata": {
        "colab": {
          "base_uri": "https://localhost:8080/",
          "height": 263
        },
        "id": "eCDp25G4Mka9",
        "outputId": "0a4d7fb4-8333-4c25-febf-f712ed8bec42"
      },
      "source": [
        "data.corr()"
      ],
      "execution_count": null,
      "outputs": [
        {
          "output_type": "execute_result",
          "data": {
            "text/html": [
              "<div>\n",
              "<style scoped>\n",
              "    .dataframe tbody tr th:only-of-type {\n",
              "        vertical-align: middle;\n",
              "    }\n",
              "\n",
              "    .dataframe tbody tr th {\n",
              "        vertical-align: top;\n",
              "    }\n",
              "\n",
              "    .dataframe thead th {\n",
              "        text-align: right;\n",
              "    }\n",
              "</style>\n",
              "<table border=\"1\" class=\"dataframe\">\n",
              "  <thead>\n",
              "    <tr style=\"text-align: right;\">\n",
              "      <th></th>\n",
              "      <th>D</th>\n",
              "      <th>X1</th>\n",
              "      <th>X2</th>\n",
              "      <th>X3</th>\n",
              "      <th>X4</th>\n",
              "      <th>X5</th>\n",
              "      <th>X6</th>\n",
              "    </tr>\n",
              "  </thead>\n",
              "  <tbody>\n",
              "    <tr>\n",
              "      <th>D</th>\n",
              "      <td>1.000000</td>\n",
              "      <td>0.312740</td>\n",
              "      <td>0.019368</td>\n",
              "      <td>0.163639</td>\n",
              "      <td>0.113356</td>\n",
              "      <td>0.206685</td>\n",
              "      <td>0.220729</td>\n",
              "    </tr>\n",
              "    <tr>\n",
              "      <th>X1</th>\n",
              "      <td>0.312740</td>\n",
              "      <td>1.000000</td>\n",
              "      <td>0.092676</td>\n",
              "      <td>0.301971</td>\n",
              "      <td>0.104378</td>\n",
              "      <td>0.399203</td>\n",
              "      <td>0.417521</td>\n",
              "    </tr>\n",
              "    <tr>\n",
              "      <th>X2</th>\n",
              "      <td>0.019368</td>\n",
              "      <td>0.092676</td>\n",
              "      <td>1.000000</td>\n",
              "      <td>0.181081</td>\n",
              "      <td>0.107432</td>\n",
              "      <td>-0.002141</td>\n",
              "      <td>0.024546</td>\n",
              "    </tr>\n",
              "    <tr>\n",
              "      <th>X3</th>\n",
              "      <td>0.163639</td>\n",
              "      <td>0.301971</td>\n",
              "      <td>0.181081</td>\n",
              "      <td>1.000000</td>\n",
              "      <td>0.298898</td>\n",
              "      <td>0.329874</td>\n",
              "      <td>0.207006</td>\n",
              "    </tr>\n",
              "    <tr>\n",
              "      <th>X4</th>\n",
              "      <td>0.113356</td>\n",
              "      <td>0.104378</td>\n",
              "      <td>0.107432</td>\n",
              "      <td>0.298898</td>\n",
              "      <td>1.000000</td>\n",
              "      <td>0.269420</td>\n",
              "      <td>0.199151</td>\n",
              "    </tr>\n",
              "    <tr>\n",
              "      <th>X5</th>\n",
              "      <td>0.206685</td>\n",
              "      <td>0.399203</td>\n",
              "      <td>-0.002141</td>\n",
              "      <td>0.329874</td>\n",
              "      <td>0.269420</td>\n",
              "      <td>1.000000</td>\n",
              "      <td>0.307402</td>\n",
              "    </tr>\n",
              "    <tr>\n",
              "      <th>X6</th>\n",
              "      <td>0.220729</td>\n",
              "      <td>0.417521</td>\n",
              "      <td>0.024546</td>\n",
              "      <td>0.207006</td>\n",
              "      <td>0.199151</td>\n",
              "      <td>0.307402</td>\n",
              "      <td>1.000000</td>\n",
              "    </tr>\n",
              "  </tbody>\n",
              "</table>\n",
              "</div>"
            ],
            "text/plain": [
              "           D        X1        X2        X3        X4        X5        X6\n",
              "D   1.000000  0.312740  0.019368  0.163639  0.113356  0.206685  0.220729\n",
              "X1  0.312740  1.000000  0.092676  0.301971  0.104378  0.399203  0.417521\n",
              "X2  0.019368  0.092676  1.000000  0.181081  0.107432 -0.002141  0.024546\n",
              "X3  0.163639  0.301971  0.181081  1.000000  0.298898  0.329874  0.207006\n",
              "X4  0.113356  0.104378  0.107432  0.298898  1.000000  0.269420  0.199151\n",
              "X5  0.206685  0.399203 -0.002141  0.329874  0.269420  1.000000  0.307402\n",
              "X6  0.220729  0.417521  0.024546  0.207006  0.199151  0.307402  1.000000"
            ]
          },
          "metadata": {
            "tags": []
          },
          "execution_count": 290
        }
      ]
    },
    {
      "cell_type": "markdown",
      "metadata": {
        "id": "30nQsQ4WNpP1"
      },
      "source": [
        "Сильной корреляции между признаками также нет. Разобьем датасет на обучающую и тестовую части"
      ]
    },
    {
      "cell_type": "code",
      "metadata": {
        "id": "FKpjwW8U6s4o"
      },
      "source": [
        "from sklearn.model_selection import train_test_split\n",
        "x = data.iloc[:, 1:]\n",
        "d = data.iloc[:, 0]\n",
        "x_train, x_test, d_train, d_test = train_test_split(x, d, test_size=0.20)"
      ],
      "execution_count": 706,
      "outputs": []
    },
    {
      "cell_type": "code",
      "metadata": {
        "colab": {
          "base_uri": "https://localhost:8080/",
          "height": 319
        },
        "id": "wvW6cZorL3R3",
        "outputId": "a86e018b-5a75-434d-c6de-a7f59ba3eb15"
      },
      "source": [
        "plt.hist(data['D'], color = 'blue', edgecolor = 'black')"
      ],
      "execution_count": null,
      "outputs": [
        {
          "output_type": "execute_result",
          "data": {
            "text/plain": [
              "(array([66.,  0.,  0.,  0.,  0.,  0.,  0.,  0.,  0., 77.]),\n",
              " array([0. , 0.1, 0.2, 0.3, 0.4, 0.5, 0.6, 0.7, 0.8, 0.9, 1. ]),\n",
              " <a list of 10 Patch objects>)"
            ]
          },
          "metadata": {
            "tags": []
          },
          "execution_count": 313
        },
        {
          "output_type": "display_data",
          "data": {
            "image/png": "[encoded data removed]",
            "text/plain": [
              "<Figure size 432x288 with 1 Axes>"
            ]
          },
          "metadata": {
            "tags": [],
            "needs_background": "light"
          }
        }
      ]
    },
    {
      "cell_type": "code",
      "metadata": {
        "colab": {
          "base_uri": "https://localhost:8080/",
          "height": 317
        },
        "id": "zicZriGpMR2T",
        "outputId": "37946c64-a025-457e-e31b-f6244f74c692"
      },
      "source": [
        "plt.hist(data['X1'], color = 'blue', edgecolor = 'black')"
      ],
      "execution_count": null,
      "outputs": [
        {
          "output_type": "execute_result",
          "data": {
            "text/plain": [
              "(array([ 1.,  0.,  0.,  0.,  0., 24.,  0., 46.,  0., 72.]),\n",
              " array([1. , 1.4, 1.8, 2.2, 2.6, 3. , 3.4, 3.8, 4.2, 4.6, 5. ]),\n",
              " <a list of 10 Patch objects>)"
            ]
          },
          "metadata": {
            "tags": []
          },
          "execution_count": 314
        },
        {
          "output_type": "display_data",
          "data": {
            "image/png": "[encoded data removed]",
            "text/plain": [
              "<Figure size 432x288 with 1 Axes>"
            ]
          },
          "metadata": {
            "tags": [],
            "needs_background": "light"
          }
        }
      ]
    },
    {
      "cell_type": "code",
      "metadata": {
        "colab": {
          "base_uri": "https://localhost:8080/",
          "height": 318
        },
        "id": "5FG4OaZhNSHQ",
        "outputId": "2eafbed5-e1bf-4dff-8c08-9907ef70c2fe"
      },
      "source": [
        "plt.hist(data['X3'], color = 'blue', edgecolor = 'black')"
      ],
      "execution_count": null,
      "outputs": [
        {
          "output_type": "execute_result",
          "data": {
            "text/plain": [
              "(array([ 8.,  0., 18.,  0.,  0., 27.,  0., 58.,  0., 32.]),\n",
              " array([1. , 1.4, 1.8, 2.2, 2.6, 3. , 3.4, 3.8, 4.2, 4.6, 5. ]),\n",
              " <a list of 10 Patch objects>)"
            ]
          },
          "metadata": {
            "tags": []
          },
          "execution_count": 291
        },
        {
          "output_type": "display_data",
          "data": {
            "image/png": "[encoded data removed]",
            "text/plain": [
              "<Figure size 432x288 with 1 Axes>"
            ]
          },
          "metadata": {
            "tags": [],
            "needs_background": "light"
          }
        }
      ]
    },
    {
      "cell_type": "code",
      "metadata": {
        "colab": {
          "base_uri": "https://localhost:8080/",
          "height": 318
        },
        "id": "vDK3X2paNXrB",
        "outputId": "fd88dfcb-3ba4-4d5c-f01a-fb42e3c9c7b3"
      },
      "source": [
        "plt.hist(data['X5'], color = 'blue', edgecolor = 'black')"
      ],
      "execution_count": null,
      "outputs": [
        {
          "output_type": "execute_result",
          "data": {
            "text/plain": [
              "(array([ 8.,  0., 18.,  0.,  0., 27.,  0., 58.,  0., 32.]),\n",
              " array([1. , 1.4, 1.8, 2.2, 2.6, 3. , 3.4, 3.8, 4.2, 4.6, 5. ]),\n",
              " <a list of 10 Patch objects>)"
            ]
          },
          "metadata": {
            "tags": []
          },
          "execution_count": 293
        },
        {
          "output_type": "display_data",
          "data": {
            "image/png": "[encoded data removed]",
            "text/plain": [
              "<Figure size 432x288 with 1 Axes>"
            ]
          },
          "metadata": {
            "tags": [],
            "needs_background": "light"
          }
        }
      ]
    },
    {
      "cell_type": "code",
      "metadata": {
        "colab": {
          "base_uri": "https://localhost:8080/",
          "height": 317
        },
        "id": "pTrSZUaaP0Tt",
        "outputId": "6ed408ce-7480-407a-adbd-8d37d89a9b86"
      },
      "source": [
        "plt.hist(x_train.iloc[:, 1], color = 'blue', edgecolor = 'black')"
      ],
      "execution_count": null,
      "outputs": [
        {
          "output_type": "execute_result",
          "data": {
            "text/plain": [
              "(array([21.,  0., 33.,  0.,  0., 37.,  0., 16.,  0.,  7.]),\n",
              " array([1. , 1.4, 1.8, 2.2, 2.6, 3. , 3.4, 3.8, 4.2, 4.6, 5. ]),\n",
              " <a list of 10 Patch objects>)"
            ]
          },
          "metadata": {
            "tags": []
          },
          "execution_count": 317
        },
        {
          "output_type": "display_data",
          "data": {
            "image/png": "[encoded data removed]",
            "text/plain": [
              "<Figure size 432x288 with 1 Axes>"
            ]
          },
          "metadata": {
            "tags": [],
            "needs_background": "light"
          }
        }
      ]
    },
    {
      "cell_type": "markdown",
      "metadata": {
        "id": "oUA-t3Fec-x5"
      },
      "source": [
        "#Алгортим K ближайших соседей с весами\n"
      ]
    },
    {
      "cell_type": "code",
      "metadata": {
        "id": "fDaJJqWzAsgT"
      },
      "source": [
        "class SimpleKNNClassifier:\n",
        "  def __init__(self, neighbours = 5):\n",
        "    self.neighbours = neighbours\n",
        "\n",
        "  def fit(self, data, labels):\n",
        "    self.data = data\n",
        "    self.labels = labels\n",
        "    self.number_of_labels = len(np.unique(labels))\n",
        "\n",
        "  def predict(self, item):\n",
        "    distances = np.sum((item[np.newaxis, :] - self.data[:]) ** 2, axis=1)\n",
        "    nearest = np.argsort(distances)\n",
        "    scores = np.zeros(self.number_of_labels)\n",
        "    for i in range(self.neighbours):\n",
        "        if distances[nearest[i]] == 0:\n",
        "          return self.labels[nearest[i]]\n",
        "        else:\n",
        "          weight = 1 / distances[nearest[i]]\n",
        "        scores[self.labels[nearest[i]]] += weight     \n",
        "    return scores.argmax()    \n",
        "  "
      ],
      "execution_count": null,
      "outputs": []
    },
    {
      "cell_type": "markdown",
      "metadata": {
        "id": "l1PtWtk5dPpU"
      },
      "source": [
        "Сравним точность предсказаний в зависимости от выбора количества соседей"
      ]
    },
    {
      "cell_type": "code",
      "metadata": {
        "id": "7udmOcuVdm8s"
      },
      "source": [
        "from sklearn.metrics import accuracy_score\n",
        "accuracy = []\n",
        "for i in range(1, 40):\n",
        "  results = []\n",
        "  x = SimpleKNNClassifier(i)\n",
        "  x.fit(x_train.to_numpy(), d_train.to_numpy())\n",
        "  for j in range(len(d_test)):\n",
        "    results.append(x.predict(x_test.iloc[j, :].to_numpy()))\n",
        "  counter = 0\n",
        "  for j in range(len(d_test)):\n",
        "    if results[j] == d_test.iloc[j]:\n",
        "        counter += 1\n",
        "  accuracy.append(accuracy_score(d_test, results))       "
      ],
      "execution_count": 707,
      "outputs": []
    },
    {
      "cell_type": "markdown",
      "metadata": {
        "id": "ed4gB41CdbWX"
      },
      "source": [
        "График зависимости точности предсказаний от числа соседей"
      ]
    },
    {
      "cell_type": "code",
      "metadata": {
        "colab": {
          "base_uri": "https://localhost:8080/",
          "height": 405
        },
        "id": "W-aMv3npafNW",
        "outputId": "2d97bb6e-6deb-4a06-b580-e90f14fd803f"
      },
      "source": [
        "plt.figure(figsize=(12, 6))\n",
        "plt.plot(range(1, 40), accuracy, color='red', linestyle='dashed', marker='o',\n",
        "         markerfacecolor='blue', markersize=10)\n",
        "plt.xlabel('K value')\n",
        "plt.ylabel('Accuracy')"
      ],
      "execution_count": null,
      "outputs": [
        {
          "output_type": "execute_result",
          "data": {
            "text/plain": [
              "Text(0, 0.5, 'Accuracy')"
            ]
          },
          "metadata": {
            "tags": []
          },
          "execution_count": 676
        },
        {
          "output_type": "display_data",
          "data": {
            "image/png": "[encoded data removed]",
            "text/plain": [
              "<Figure size 864x432 with 1 Axes>"
            ]
          },
          "metadata": {
            "tags": [],
            "needs_background": "light"
          }
        }
      ]
    },
    {
      "cell_type": "code",
      "metadata": {
        "id": "wH3N_p0rMkA_"
      },
      "source": [
        "from sklearn.neighbors import KNeighborsClassifier\n",
        "accuracy = []\n",
        "for i in range(1, 40):\n",
        "  model = KNeighborsClassifier(n_neighbors=i, weights='distance')\n",
        "  model.fit(x_train, d_train)\n",
        "  accuracy.append(model.score(x_test, d_test))"
      ],
      "execution_count": null,
      "outputs": []
    },
    {
      "cell_type": "code",
      "metadata": {
        "colab": {
          "base_uri": "https://localhost:8080/",
          "height": 405
        },
        "id": "FQSaACNccX1r",
        "outputId": "c855c304-4ce4-41cd-8a6e-7676266624fd"
      },
      "source": [
        "plt.figure(figsize=(12, 6))\n",
        "plt.plot(range(1, 40), accuracy, color='red', linestyle='dashed', marker='o',\n",
        "         markerfacecolor='blue', markersize=10)\n",
        "plt.xlabel('K value')\n",
        "plt.ylabel('Accuracy')"
      ],
      "execution_count": null,
      "outputs": [
        {
          "output_type": "execute_result",
          "data": {
            "text/plain": [
              "Text(0, 0.5, 'Accuracy')"
            ]
          },
          "metadata": {
            "tags": []
          },
          "execution_count": 678
        },
        {
          "output_type": "display_data",
          "data": {
            "image/png": "[encoded data removed]",
            "text/plain": [
              "<Figure size 864x432 with 1 Axes>"
            ]
          },
          "metadata": {
            "tags": [],
            "needs_background": "light"
          }
        }
      ]
    },
    {
      "cell_type": "markdown",
      "metadata": {
        "id": "ijIc_fx5C3s9"
      },
      "source": [
        "#Наивный Байесовский классификатор"
      ]
    },
    {
      "cell_type": "code",
      "metadata": {
        "id": "XK56ExWJTqnY"
      },
      "source": [
        "from math import exp, pi, sqrt, log\n",
        "\n",
        "class NaiveBayesClassifier:\n",
        "  def fit(self, data, labels):\n",
        "      self.labels_prob = dict()\n",
        "      for label in labels:\n",
        "        self.labels_prob.setdefault(label, 0)\n",
        "        self.labels_prob[label] += 1 \n",
        "      self.features_prob = [dict() for i in range(len(data[0]))]\n",
        "      for feat in range(len(data[0])):\n",
        "        for i in range(len(data)):\n",
        "          self.features_prob[feat].setdefault(data[i][feat], [0 for _ in range(len(self.labels_prob))])\n",
        "          self.features_prob[feat][data[i][feat]][labels[i]] += 1 \n",
        "        for key in self.features_prob[feat]:\n",
        "          for i in range(len(self.features_prob[feat][key])):\n",
        "            self.features_prob[feat][key][i] /= self.labels_prob[i]  \n",
        "      for key in self.labels_prob:\n",
        "        self.labels_prob[key] /= len(labels)\n",
        "\n",
        "  def predict(self, item):\n",
        "    max = 0\n",
        "    max_i = -1\n",
        "    for i in range(len(self.labels_prob)):\n",
        "      current = 0\n",
        "      for j in range(len(item)):\n",
        "        self.features_prob[j].setdefault(item[j], [0 for _ in range(len(self.labels_prob))])\n",
        "        if self.features_prob[j][item[j]][i] != 0:\n",
        "          current += log(self.features_prob[j][item[j]][i])\n",
        "      current += log(self.labels_prob[i])\n",
        "      if current > max or max_i == -1:\n",
        "        max = current\n",
        "        max_i = i\n",
        "    return max_i"
      ],
      "execution_count": 704,
      "outputs": []
    },
    {
      "cell_type": "code",
      "metadata": {
        "colab": {
          "base_uri": "https://localhost:8080/"
        },
        "id": "sOygRcGikaVm",
        "outputId": "455d697a-b561-4ffe-c0da-33cb51b99110"
      },
      "source": [
        "f = NaiveBayesClassifier()\n",
        "f.fit(x_train.to_numpy(), d_train.to_numpy())\n",
        "results = []\n",
        "for j in range(len(d_test)):\n",
        "  results.append(f.predict(x_test.iloc[j]))\n",
        "counter = 0\n",
        "print(accuracy_score(d_test, results))"
      ],
      "execution_count": 708,
      "outputs": [
        {
          "output_type": "stream",
          "text": [
            "0.5517241379310345\n"
          ],
          "name": "stdout"
        }
      ]
    },
    {
      "cell_type": "code",
      "metadata": {
        "id": "s6_Fu-kD1ZJ3"
      },
      "source": [
        "def calc_prob(val, mean, std):\n",
        "  return exp(-(val - mean) ** 2 / (2 * std ** 2)) / sqrt(2 * pi * std ** 2)\n",
        "\n",
        "class NaiveGaussianBayesClassifier:\n",
        "  def fit(self, data, labels):\n",
        "    self.labels_prob = dict()\n",
        "    self.feat_props = []\n",
        "    for label in labels:\n",
        "      self.labels_prob.setdefault(label, 0)\n",
        "      self.labels_prob[label] += 1\n",
        "    for key in self.labels_prob:\n",
        "      self.labels_prob[key] /= len(labels)\n",
        "    for feat in range(len(data[0])):\n",
        "      counts = [[] for _ in range(len(self.labels_prob))]\n",
        "      props = []\n",
        "      for i in range(len(data)):\n",
        "        counts[labels[i]].append(data[i][feat]) \n",
        "      for i in range(len(self.labels_prob)):\n",
        "        arr = np.array(counts[i])\n",
        "        props.append((arr.mean(), arr.std()))\n",
        "      self.feat_props.append(props)  \n",
        "\n",
        "  def predict(self, item):\n",
        "    max = -1 * 10 ** 10\n",
        "    max_i = -1\n",
        "    for i in range(len(self.labels_prob)):\n",
        "      current = 0\n",
        "      for j in range(len(item)):\n",
        "        current += log(calc_prob(item[j], self.feat_props[j][i][0], self.feat_props[j][i][1]))\n",
        "      current += log(self.labels_prob[i])\n",
        "      if current > max or max_i == -1:\n",
        "        max = current\n",
        "        max_i = i\n",
        "    return max_i"
      ],
      "execution_count": null,
      "outputs": []
    },
    {
      "cell_type": "code",
      "metadata": {
        "colab": {
          "base_uri": "https://localhost:8080/"
        },
        "id": "pbzn3Z_r3krG",
        "outputId": "3b2476b3-7df1-4974-b007-1725a82eb052"
      },
      "source": [
        "xd = NaiveGaussianBayesClassifier()\n",
        "xd.fit(x_train.to_numpy(), d_train.to_numpy())\n",
        "results = []\n",
        "for j in range(len(d_test)):\n",
        "  results.append(xd.predict(x_test.iloc[j]))\n",
        "print(accuracy_score(d_test, results))"
      ],
      "execution_count": 709,
      "outputs": [
        {
          "output_type": "stream",
          "text": [
            "0.6896551724137931\n"
          ],
          "name": "stdout"
        }
      ]
    },
    {
      "cell_type": "code",
      "metadata": {
        "colab": {
          "base_uri": "https://localhost:8080/"
        },
        "id": "j73CklXUN4VU",
        "outputId": "c5681c00-b77e-47bd-a81d-a319e6b79d97"
      },
      "source": [
        "from sklearn.naive_bayes import GaussianNB\n",
        "model = GaussianNB()\n",
        "model.fit(x_train, d_train)\n",
        "model.score(x_test, d_test)"
      ],
      "execution_count": 710,
      "outputs": [
        {
          "output_type": "execute_result",
          "data": {
            "text/plain": [
              "0.6896551724137931"
            ]
          },
          "metadata": {
            "tags": []
          },
          "execution_count": 710
        }
      ]
    }
  ]
}
