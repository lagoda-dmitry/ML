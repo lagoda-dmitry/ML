{
  "nbformat": 4,
  "nbformat_minor": 5,
  "metadata": {
    "kernelspec": {
      "display_name": "Python 3",
      "language": "python",
      "name": "python3"
    },
    "language_info": {
      "codemirror_mode": {
        "name": "ipython",
        "version": 3
      },
      "file_extension": ".py",
      "mimetype": "text/x-python",
      "name": "python",
      "nbconvert_exporter": "python",
      "pygments_lexer": "ipython3",
      "version": "3.8.6"
    },
    "colab": {
      "name": "lab2.ipynb",
      "provenance": []
    }
  },
  "cells": [
    {
      "cell_type": "code",
      "metadata": {
        "id": "elementary-technical"
      },
      "source": [
        "import pandas as pd\n",
        "import numpy as np\n",
        "\n",
        "df = pd.read_csv('lab2.cleveland.csv')\n",
        "df_test = pd.read_csv('test.lab2.cleveland.csv')"
      ],
      "id": "elementary-technical",
      "execution_count": 90,
      "outputs": []
    },
    {
      "cell_type": "code",
      "metadata": {
        "id": "respective-cylinder",
        "outputId": "173427a6-98d6-4caa-f1ad-f7b16b9376ef",
        "colab": {
          "base_uri": "https://localhost:8080/"
        }
      },
      "source": [
        "columns_with_invalid_data = set()\n",
        "\n",
        "for col in df:\n",
        "    for el in df[col]:\n",
        "        if el == '?':\n",
        "            columns_with_invalid_data.add(col)\n",
        "            \n",
        "print(columns_with_invalid_data)\n",
        "\n",
        "for col_name in columns_with_invalid_data:\n",
        "    df.drop(df[df[col_name] == '?'].index, inplace=True)\n",
        "\n",
        "df.reset_index(inplace=True, drop=True)"
      ],
      "id": "respective-cylinder",
      "execution_count": 91,
      "outputs": [
        {
          "output_type": "stream",
          "name": "stdout",
          "text": [
            "{'thal', 'ca'}\n"
          ]
        }
      ]
    },
    {
      "cell_type": "code",
      "metadata": {
        "id": "juvenile-continent",
        "outputId": "180ecaaf-fb05-449e-cad3-4c187619c33b",
        "colab": {
          "base_uri": "https://localhost:8080/"
        }
      },
      "source": [
        "data = df.values.tolist()\n",
        "data_test = df_test.values.tolist()\n",
        "\n",
        "for i in range(len(data)):\n",
        "    data[i] = list(map(float, data[i]))\n",
        "\n",
        "print(data[0])"
      ],
      "id": "juvenile-continent",
      "execution_count": 92,
      "outputs": [
        {
          "output_type": "stream",
          "name": "stdout",
          "text": [
            "[41.0, 0.0, 2.0, 105.0, 198.0, 0.0, 0.0, 168.0, 0.0, 0.0, 1.0, 1.0, 3.0, 0.0]\n"
          ]
        }
      ]
    },
    {
      "cell_type": "code",
      "metadata": {
        "id": "middle-lotus",
        "outputId": "23913951-3d5b-46a3-c58b-7a84450fe362",
        "colab": {
          "base_uri": "https://localhost:8080/",
          "height": 424
        }
      },
      "source": [
        "df"
      ],
      "id": "middle-lotus",
      "execution_count": 93,
      "outputs": [
        {
          "output_type": "execute_result",
          "data": {
            "text/html": [
              "<div>\n",
              "<style scoped>\n",
              "    .dataframe tbody tr th:only-of-type {\n",
              "        vertical-align: middle;\n",
              "    }\n",
              "\n",
              "    .dataframe tbody tr th {\n",
              "        vertical-align: top;\n",
              "    }\n",
              "\n",
              "    .dataframe thead th {\n",
              "        text-align: right;\n",
              "    }\n",
              "</style>\n",
              "<table border=\"1\" class=\"dataframe\">\n",
              "  <thead>\n",
              "    <tr style=\"text-align: right;\">\n",
              "      <th></th>\n",
              "      <th>age</th>\n",
              "      <th>sex</th>\n",
              "      <th>cp</th>\n",
              "      <th>trestbps</th>\n",
              "      <th>chol</th>\n",
              "      <th>fbs</th>\n",
              "      <th>restecg</th>\n",
              "      <th>thalach</th>\n",
              "      <th>exang</th>\n",
              "      <th>oldpeak</th>\n",
              "      <th>slope</th>\n",
              "      <th>ca</th>\n",
              "      <th>thal</th>\n",
              "      <th>num</th>\n",
              "    </tr>\n",
              "  </thead>\n",
              "  <tbody>\n",
              "    <tr>\n",
              "      <th>0</th>\n",
              "      <td>41</td>\n",
              "      <td>0</td>\n",
              "      <td>2</td>\n",
              "      <td>105</td>\n",
              "      <td>198</td>\n",
              "      <td>0</td>\n",
              "      <td>0</td>\n",
              "      <td>168</td>\n",
              "      <td>0</td>\n",
              "      <td>0.0</td>\n",
              "      <td>1</td>\n",
              "      <td>1</td>\n",
              "      <td>3</td>\n",
              "      <td>0</td>\n",
              "    </tr>\n",
              "    <tr>\n",
              "      <th>1</th>\n",
              "      <td>65</td>\n",
              "      <td>1</td>\n",
              "      <td>4</td>\n",
              "      <td>120</td>\n",
              "      <td>177</td>\n",
              "      <td>0</td>\n",
              "      <td>0</td>\n",
              "      <td>140</td>\n",
              "      <td>0</td>\n",
              "      <td>0.4</td>\n",
              "      <td>1</td>\n",
              "      <td>0</td>\n",
              "      <td>7</td>\n",
              "      <td>0</td>\n",
              "    </tr>\n",
              "    <tr>\n",
              "      <th>2</th>\n",
              "      <td>44</td>\n",
              "      <td>1</td>\n",
              "      <td>4</td>\n",
              "      <td>112</td>\n",
              "      <td>290</td>\n",
              "      <td>0</td>\n",
              "      <td>2</td>\n",
              "      <td>153</td>\n",
              "      <td>0</td>\n",
              "      <td>0.0</td>\n",
              "      <td>1</td>\n",
              "      <td>1</td>\n",
              "      <td>3</td>\n",
              "      <td>2</td>\n",
              "    </tr>\n",
              "    <tr>\n",
              "      <th>3</th>\n",
              "      <td>44</td>\n",
              "      <td>1</td>\n",
              "      <td>2</td>\n",
              "      <td>130</td>\n",
              "      <td>219</td>\n",
              "      <td>0</td>\n",
              "      <td>2</td>\n",
              "      <td>188</td>\n",
              "      <td>0</td>\n",
              "      <td>0.0</td>\n",
              "      <td>1</td>\n",
              "      <td>0</td>\n",
              "      <td>3</td>\n",
              "      <td>0</td>\n",
              "    </tr>\n",
              "    <tr>\n",
              "      <th>4</th>\n",
              "      <td>60</td>\n",
              "      <td>1</td>\n",
              "      <td>4</td>\n",
              "      <td>130</td>\n",
              "      <td>253</td>\n",
              "      <td>0</td>\n",
              "      <td>0</td>\n",
              "      <td>144</td>\n",
              "      <td>1</td>\n",
              "      <td>1.4</td>\n",
              "      <td>1</td>\n",
              "      <td>1</td>\n",
              "      <td>7</td>\n",
              "      <td>1</td>\n",
              "    </tr>\n",
              "    <tr>\n",
              "      <th>...</th>\n",
              "      <td>...</td>\n",
              "      <td>...</td>\n",
              "      <td>...</td>\n",
              "      <td>...</td>\n",
              "      <td>...</td>\n",
              "      <td>...</td>\n",
              "      <td>...</td>\n",
              "      <td>...</td>\n",
              "      <td>...</td>\n",
              "      <td>...</td>\n",
              "      <td>...</td>\n",
              "      <td>...</td>\n",
              "      <td>...</td>\n",
              "      <td>...</td>\n",
              "    </tr>\n",
              "    <tr>\n",
              "      <th>242</th>\n",
              "      <td>57</td>\n",
              "      <td>0</td>\n",
              "      <td>4</td>\n",
              "      <td>140</td>\n",
              "      <td>241</td>\n",
              "      <td>0</td>\n",
              "      <td>0</td>\n",
              "      <td>123</td>\n",
              "      <td>1</td>\n",
              "      <td>0.2</td>\n",
              "      <td>2</td>\n",
              "      <td>0</td>\n",
              "      <td>7</td>\n",
              "      <td>1</td>\n",
              "    </tr>\n",
              "    <tr>\n",
              "      <th>243</th>\n",
              "      <td>45</td>\n",
              "      <td>1</td>\n",
              "      <td>1</td>\n",
              "      <td>110</td>\n",
              "      <td>264</td>\n",
              "      <td>0</td>\n",
              "      <td>0</td>\n",
              "      <td>132</td>\n",
              "      <td>0</td>\n",
              "      <td>1.2</td>\n",
              "      <td>2</td>\n",
              "      <td>0</td>\n",
              "      <td>7</td>\n",
              "      <td>1</td>\n",
              "    </tr>\n",
              "    <tr>\n",
              "      <th>244</th>\n",
              "      <td>68</td>\n",
              "      <td>1</td>\n",
              "      <td>4</td>\n",
              "      <td>144</td>\n",
              "      <td>193</td>\n",
              "      <td>1</td>\n",
              "      <td>0</td>\n",
              "      <td>141</td>\n",
              "      <td>0</td>\n",
              "      <td>3.4</td>\n",
              "      <td>2</td>\n",
              "      <td>2</td>\n",
              "      <td>7</td>\n",
              "      <td>2</td>\n",
              "    </tr>\n",
              "    <tr>\n",
              "      <th>245</th>\n",
              "      <td>57</td>\n",
              "      <td>1</td>\n",
              "      <td>4</td>\n",
              "      <td>130</td>\n",
              "      <td>131</td>\n",
              "      <td>0</td>\n",
              "      <td>0</td>\n",
              "      <td>115</td>\n",
              "      <td>1</td>\n",
              "      <td>1.2</td>\n",
              "      <td>2</td>\n",
              "      <td>1</td>\n",
              "      <td>7</td>\n",
              "      <td>3</td>\n",
              "    </tr>\n",
              "    <tr>\n",
              "      <th>246</th>\n",
              "      <td>57</td>\n",
              "      <td>0</td>\n",
              "      <td>2</td>\n",
              "      <td>130</td>\n",
              "      <td>236</td>\n",
              "      <td>0</td>\n",
              "      <td>2</td>\n",
              "      <td>174</td>\n",
              "      <td>0</td>\n",
              "      <td>0.0</td>\n",
              "      <td>2</td>\n",
              "      <td>1</td>\n",
              "      <td>3</td>\n",
              "      <td>1</td>\n",
              "    </tr>\n",
              "  </tbody>\n",
              "</table>\n",
              "<p>247 rows × 14 columns</p>\n",
              "</div>"
            ],
            "text/plain": [
              "     age  sex  cp  trestbps  chol  fbs  ...  exang  oldpeak  slope  ca  thal num\n",
              "0     41    0   2       105   198    0  ...      0      0.0      1   1     3   0\n",
              "1     65    1   4       120   177    0  ...      0      0.4      1   0     7   0\n",
              "2     44    1   4       112   290    0  ...      0      0.0      1   1     3   2\n",
              "3     44    1   2       130   219    0  ...      0      0.0      1   0     3   0\n",
              "4     60    1   4       130   253    0  ...      1      1.4      1   1     7   1\n",
              "..   ...  ...  ..       ...   ...  ...  ...    ...      ...    ...  ..   ...  ..\n",
              "242   57    0   4       140   241    0  ...      1      0.2      2   0     7   1\n",
              "243   45    1   1       110   264    0  ...      0      1.2      2   0     7   1\n",
              "244   68    1   4       144   193    1  ...      0      3.4      2   2     7   2\n",
              "245   57    1   4       130   131    0  ...      1      1.2      2   1     7   3\n",
              "246   57    0   2       130   236    0  ...      0      0.0      2   1     3   1\n",
              "\n",
              "[247 rows x 14 columns]"
            ]
          },
          "metadata": {},
          "execution_count": 93
        }
      ]
    },
    {
      "cell_type": "markdown",
      "metadata": {
        "id": "interior-software"
      },
      "source": [
        "#### Преобразуем признаки из диапазона [0:4] в значения [0,1]"
      ],
      "id": "interior-software"
    },
    {
      "cell_type": "markdown",
      "metadata": {
        "id": "tight-exception"
      },
      "source": [
        "[0 -> 0]\n",
        "[1 -> 0]\n",
        "[2 -> 1]\n",
        "[3 -> 1]\n",
        "[4 -> 1]"
      ],
      "id": "tight-exception"
    },
    {
      "cell_type": "code",
      "metadata": {
        "id": "diverse-penalty"
      },
      "source": [
        "for li in data:\n",
        "    li[-1] = 0 if li[-1] <= 1 else 1\n",
        "\n",
        "for li in data_test:\n",
        "    li[-1] = 0 if li[-1] <= 1 else 1"
      ],
      "id": "diverse-penalty",
      "execution_count": 94,
      "outputs": []
    },
    {
      "cell_type": "markdown",
      "metadata": {
        "id": "rapid-safety"
      },
      "source": [
        "### Подготовка тренировочной и тестовой выборок"
      ],
      "id": "rapid-safety"
    },
    {
      "cell_type": "code",
      "metadata": {
        "id": "optimum-treasury",
        "outputId": "d7777c99-ce6f-4b29-e0af-b48d84e13c87",
        "colab": {
          "base_uri": "https://localhost:8080/"
        }
      },
      "source": [
        "print(len(data), len(data_test))"
      ],
      "id": "optimum-treasury",
      "execution_count": 95,
      "outputs": [
        {
          "output_type": "stream",
          "name": "stdout",
          "text": [
            "247 50\n"
          ]
        }
      ]
    },
    {
      "cell_type": "code",
      "metadata": {
        "id": "identified-vessel"
      },
      "source": [
        "X_train = [row[:-1] for row in data]\n",
        "Y_train = [row[-1] for row in data]\n",
        "X_test = [row[:-1] for row in data_test]\n",
        "Y_test = [row[-1] for row in data_test]"
      ],
      "id": "identified-vessel",
      "execution_count": 96,
      "outputs": []
    },
    {
      "cell_type": "markdown",
      "metadata": {
        "id": "hired-saskatchewan"
      },
      "source": [
        "### Logistic regression"
      ],
      "id": "hired-saskatchewan"
    },
    {
      "cell_type": "code",
      "metadata": {
        "id": "muslim-sailing"
      },
      "source": [
        "class LogisticRegression:\n",
        "    def __init__(self, learning_step=0.01, iters=5000):\n",
        "        self.step = learning_step\n",
        "        self.num_iter = iters\n",
        "\n",
        "    def add_ones(self, X):\n",
        "        return np.concatenate((np.ones((X.shape[0], 1)), X), axis=1)\n",
        "\n",
        "    def sigm(self, z):\n",
        "        overflow_pos = sum([i > 4 for i in z])\n",
        "        overflow_neg = sum([i < -4 for i in z])\n",
        "        if overflow_pos > 0:\n",
        "            return [1 for _ in range(len(z))]\n",
        "        elif overflow_neg > 0:\n",
        "            return [0 for _ in range(len(z))]\n",
        "        else:\n",
        "            return 1 / (1 + np.exp(-z))\n",
        "\n",
        "    def fit(self, X, Y):\n",
        "        x = self.add_ones(np.array(X))\n",
        "        y = np.array(Y)\n",
        "        self.w = np.zeros(x.shape[1])\n",
        "\n",
        "        z = np.dot(x, self.w)\n",
        "        yp = self.sigm(z)\n",
        "\n",
        "        for i in range(self.num_iter):\n",
        "            gradient = np.dot(x.T, (yp - y)) / len(y)\n",
        "            self.w -= self.step * gradient\n",
        "            z = np.dot(x, self.w)\n",
        "            yp = self.sigm(z)\n",
        "\n",
        "        return self\n",
        "\n",
        "    def predict(self, X):\n",
        "        x = self.add_ones(np.array(X))\n",
        "        z = np.dot(x, self.w)\n",
        "        return self.sigm(z)\n",
        "\n",
        "    def score(self, X, Y):\n",
        "        return sum(np.array(Y) == self.predict(X)) / len(X)"
      ],
      "id": "muslim-sailing",
      "execution_count": 143,
      "outputs": []
    },
    {
      "cell_type": "code",
      "metadata": {
        "id": "proprietary-durham"
      },
      "source": [
        "lr = LogisticRegression().fit(X_train, Y_train)"
      ],
      "id": "proprietary-durham",
      "execution_count": 144,
      "outputs": []
    },
    {
      "cell_type": "code",
      "metadata": {
        "id": "permanent-imperial",
        "outputId": "7f9192fa-715b-4cc5-bf9b-f76d233ec6c8",
        "colab": {
          "base_uri": "https://localhost:8080/"
        }
      },
      "source": [
        "print(f'accuracy = {lr.score(X_test, Y_test)*100}%')"
      ],
      "id": "permanent-imperial",
      "execution_count": 145,
      "outputs": [
        {
          "output_type": "stream",
          "name": "stdout",
          "text": [
            "accuracy = 74.0%\n"
          ]
        }
      ]
    },
    {
      "cell_type": "markdown",
      "metadata": {
        "id": "funny-pitch"
      },
      "source": [
        "### Decision Tree"
      ],
      "id": "funny-pitch"
    },
    {
      "cell_type": "markdown",
      "metadata": {
        "id": "operational-mailing"
      },
      "source": [
        "Этропия и полученная информация"
      ],
      "id": "operational-mailing"
    },
    {
      "cell_type": "code",
      "metadata": {
        "id": "exceptional-classics"
      },
      "source": [
        "def entropy(array):\n",
        "    total = len(array)\n",
        "    ones = sum(el[-1] for el in array)\n",
        "    zeros = total - ones\n",
        "\n",
        "    p0 = zeros / total\n",
        "    p1 = ones / total\n",
        "\n",
        "    if p0 == 0 or p1 == 0:\n",
        "        return 0\n",
        "\n",
        "    return -p0 * np.log2(p0) - p1 * np.log2(p1)\n",
        "\n",
        "\n",
        "def information_gain(root, children):\n",
        "    n0 = len(root)\n",
        "    return entropy(root) - sum(len(arr) / n0 * entropy(arr) for arr in children)"
      ],
      "id": "exceptional-classics",
      "execution_count": 101,
      "outputs": []
    },
    {
      "cell_type": "markdown",
      "metadata": {
        "id": "devoted-station"
      },
      "source": [
        "Список условий для разбиения подвыборок"
      ],
      "id": "devoted-station"
    },
    {
      "cell_type": "code",
      "metadata": {
        "id": "unsigned-heath"
      },
      "source": [
        "class SplitCondition:\n",
        "    def __init__(self, idx, val, operation):\n",
        "        self.idx = idx\n",
        "        self.val = val\n",
        "        self.operation = operation\n",
        "\n",
        "    def __str__(self):\n",
        "        return f'<SplitCond> idx={self.idx}, val={self.val}'\n",
        "\n",
        "\n",
        "less = lambda x, y: x < y\n",
        "equal = lambda x, y: x == y\n",
        "\n",
        "my_split_conditions = [\n",
        "    # age\n",
        "    SplitCondition(0, 40, less),\n",
        "    SplitCondition(0, 50, less),\n",
        "    SplitCondition(0, 60, less),\n",
        "\n",
        "    # sex\n",
        "    SplitCondition(1, 0, equal),\n",
        "\n",
        "    # cp\n",
        "    SplitCondition(2, 4, equal),\n",
        "\n",
        "    # trestbps\n",
        "    SplitCondition(3, 130, less),\n",
        "    SplitCondition(3, 150, less),\n",
        "\n",
        "    # chol\n",
        "    SplitCondition(4, 150, less),\n",
        "    SplitCondition(4, 200, less),\n",
        "    SplitCondition(4, 250, less),\n",
        "    SplitCondition(4, 300, less),\n",
        "\n",
        "    # fbs\n",
        "    SplitCondition(5, 0, equal),\n",
        "\n",
        "    # restecg\n",
        "    SplitCondition(6, 0, equal),\n",
        "\n",
        "    # thalach\n",
        "    SplitCondition(7, 120, less),\n",
        "    SplitCondition(7, 145, less),\n",
        "    SplitCondition(7, 170, less),\n",
        "\n",
        "    # exang\n",
        "    SplitCondition(8, 0, equal),\n",
        "\n",
        "    # oldpeak\n",
        "    SplitCondition(9, 0.5, less),\n",
        "    SplitCondition(9, 1.5, less),\n",
        "    SplitCondition(9, 2.5, less),\n",
        "\n",
        "    # slope\n",
        "    SplitCondition(10, 2, equal),\n",
        "\n",
        "    # ca\n",
        "    SplitCondition(11, 2, less),\n",
        "\n",
        "    # thal\n",
        "    SplitCondition(12, 3, equal),\n",
        "    SplitCondition(12, 7, equal),\n",
        "]"
      ],
      "id": "unsigned-heath",
      "execution_count": 102,
      "outputs": []
    },
    {
      "cell_type": "code",
      "metadata": {
        "id": "fuzzy-nerve"
      },
      "source": [
        "# all rows in dataset [0-12]\n",
        "table_rows = [*range(13)]"
      ],
      "id": "fuzzy-nerve",
      "execution_count": 103,
      "outputs": []
    },
    {
      "cell_type": "markdown",
      "metadata": {
        "id": "mobile-usage"
      },
      "source": [
        "Реализация самого дерева решений"
      ],
      "id": "mobile-usage"
    },
    {
      "cell_type": "code",
      "metadata": {
        "id": "another-nitrogen"
      },
      "source": [
        "class Node:\n",
        "    def __init__(self, array=None, split_condition=None):\n",
        "        self.array = array\n",
        "        self.children = []\n",
        "        self.split_condition = split_condition\n",
        "\n",
        "    def __str__(self):\n",
        "        return f'<Node> with size={len(self.array)}, {len(self.children)} childrens'\n",
        "\n",
        "    def add_children(self, array):\n",
        "        self.children.append(Node(array))\n",
        "\n",
        "\n",
        "class DecisionTree:\n",
        "    def __init__(self, max_depth=5):\n",
        "        self.max_depth = max_depth\n",
        "        self.root = None\n",
        "        self.split_conditions = my_split_conditions\n",
        "\n",
        "    def fit(self, x, y, n_usable_columns=None):\n",
        "        merged = []\n",
        "        for i in range(len(x)):\n",
        "            merged.append([*x[i], y[i]])\n",
        "\n",
        "        self.root = Node(merged)\n",
        "        self.build(self.root, 0, n_usable_columns)\n",
        "\n",
        "    def build(self, node, depth, n_usable_columns):\n",
        "        if depth == self.max_depth:\n",
        "            return\n",
        "\n",
        "        left, right, split_condition = self.find_best_split(node, n_usable_columns)\n",
        "        if left is None or right is None:\n",
        "            return\n",
        "\n",
        "        node.add_children(left)\n",
        "        node.add_children(right)\n",
        "        node.split_condition = split_condition\n",
        "\n",
        "        self.build(node.children[0], depth+1, n_usable_columns)\n",
        "        self.build(node.children[1], depth+1, n_usable_columns)\n",
        "\n",
        "    def split_by_condition(self, array, condition: SplitCondition):\n",
        "        left = []\n",
        "        right = []\n",
        "\n",
        "        for row in array:\n",
        "            if condition.operation(row[condition.idx], condition.val):\n",
        "                left.append(row)\n",
        "            else:\n",
        "                right.append(row)\n",
        "\n",
        "        return left, right\n",
        "\n",
        "    def find_best_split(self, node, n_usable_columns):\n",
        "        max_info_gain = 0\n",
        "        res_left, res_right = None, None\n",
        "        res_split_condition = None\n",
        "\n",
        "        available_conditions = []\n",
        "        available_rows = table_rows\n",
        "\n",
        "        if n_usable_columns is not None:\n",
        "            available_rows = random.sample(available_rows, n_usable_columns)\n",
        "            for condition in self.split_conditions:\n",
        "                if condition.idx in available_rows:\n",
        "                    available_conditions.append(condition)\n",
        "        else:\n",
        "            available_conditions = self.split_conditions\n",
        "\n",
        "        for condition in available_conditions:\n",
        "            left, right = self.split_by_condition(node.array, condition)\n",
        "\n",
        "            if len(left) == 0 or len(right) == 0:\n",
        "                continue\n",
        "\n",
        "            current_info_gain = information_gain(node.array, [left, right])\n",
        "            if current_info_gain > max_info_gain:\n",
        "                max_info_gain = current_info_gain\n",
        "                res_left = left.copy()\n",
        "                res_right = right.copy()\n",
        "                res_split_condition = condition\n",
        "\n",
        "        return res_left, res_right, res_split_condition\n",
        "    \n",
        "    def predict(self, x):\n",
        "        node = self.root\n",
        "\n",
        "        while len(node.children) != 0:\n",
        "            if node.split_condition.operation(x[node.split_condition.idx], node.split_condition.val):\n",
        "                node = node.children[0]\n",
        "            else:\n",
        "                node = node.children[1]\n",
        "\n",
        "        ones = sum(row[-1] for row in node.array)\n",
        "        zeros = len(node.array) - ones\n",
        "\n",
        "        return 1 if ones > zeros else 0\n",
        "\n",
        "    def score(self, x, y):\n",
        "        success = 0\n",
        "        for i in range(len(x)):\n",
        "            success += 1 if y[i] == self.predict(x[i]) else 0\n",
        "        \n",
        "        return success / len(x)\n",
        "\n",
        "    def precision(self, x, y):\n",
        "        truepos = 0\n",
        "        falsepos = 0\n",
        "        for i in range(len(x)):\n",
        "            truepos += 1 if (y[i] == self.predict(x[i]) and self.predict(x[i]) == 1)  else 0\n",
        "            falsepos += 1 if (y[i] == 0 and self.predict(x[i]) == 1) else 0\n",
        "        return (truepos /(truepos + falsepos))*1\n",
        "\n",
        "   "
      ],
      "id": "another-nitrogen",
      "execution_count": 104,
      "outputs": []
    },
    {
      "cell_type": "code",
      "metadata": {
        "id": "patient-vintage"
      },
      "source": [
        "tree = DecisionTree(max_depth=5)"
      ],
      "id": "patient-vintage",
      "execution_count": 105,
      "outputs": []
    },
    {
      "cell_type": "code",
      "metadata": {
        "id": "adolescent-documentary"
      },
      "source": [
        "tree.fit(X_train, Y_train)"
      ],
      "id": "adolescent-documentary",
      "execution_count": 106,
      "outputs": []
    },
    {
      "cell_type": "code",
      "metadata": {
        "id": "noted-cornwall",
        "outputId": "8d4f5766-fc5b-4190-ccd5-39f7a3e38e02",
        "colab": {
          "base_uri": "https://localhost:8080/"
        }
      },
      "source": [
        "print(f'accuracy = {tree.score(X_test, Y_test)*100}%')"
      ],
      "id": "noted-cornwall",
      "execution_count": 107,
      "outputs": [
        {
          "output_type": "stream",
          "name": "stdout",
          "text": [
            "accuracy = 88.0%\n"
          ]
        }
      ]
    },
    {
      "cell_type": "code",
      "metadata": {
        "id": "S-VU4DjJJgY_",
        "outputId": "1d617762-f547-48af-89d5-d60266625e46",
        "colab": {
          "base_uri": "https://localhost:8080/"
        }
      },
      "source": [
        "print(f'precision = {tree.precision(X_test, Y_test)*100}%')"
      ],
      "id": "S-VU4DjJJgY_",
      "execution_count": 108,
      "outputs": [
        {
          "output_type": "stream",
          "name": "stdout",
          "text": [
            "precision = 81.81818181818183%\n"
          ]
        }
      ]
    },
    {
      "cell_type": "markdown",
      "metadata": {
        "id": "viral-hearing"
      },
      "source": [
        "### Random Forest"
      ],
      "id": "viral-hearing"
    },
    {
      "cell_type": "code",
      "metadata": {
        "id": "characteristic-wayne"
      },
      "source": [
        "import math\n",
        "import random\n",
        "\n",
        "class RandomForest:\n",
        "    def __init__(self, n_usable_columns, n_trees=100, max_tree_depth=5):\n",
        "        self.trees = []\n",
        "        self.n_usable_columns = n_usable_columns\n",
        "        self.n_trees = n_trees\n",
        "        self.accuracy = 0\n",
        "        self.max_tree_depth = max_tree_depth\n",
        "\n",
        "    def fit(self, x, y):\n",
        "        (x_train, y_train), (x_test, y_test) = self.bootstrap(x, y, int(len(x) / 1.5))\n",
        "        \n",
        "        for i in range(self.n_trees):\n",
        "            tree = DecisionTree(self.max_tree_depth)\n",
        "            tree.fit(x_train, y_train, self.n_usable_columns)\n",
        "            self.trees.append(tree)\n",
        "            \n",
        "        if len(x_test) != 0:\n",
        "            self.accuracy = self.score(x_test, y_test)\n",
        "\n",
        "    def bootstrap(self, x, y, new_size):\n",
        "        x_new, y_new = [], []\n",
        "        x_out_of_bag, y_out_of_bag = [], []\n",
        "\n",
        "        merged = []\n",
        "        for i in range(len(x)):\n",
        "            merged.append([*x[i], y[i]])\n",
        "\n",
        "        for i in range(new_size):\n",
        "            idx = random.randint(0, len(x)-1)\n",
        "            x_new.append(x[idx])\n",
        "            y_new.append(y[idx])\n",
        "\n",
        "        for i in range(len(x)):\n",
        "            if x[i] not in x_new:\n",
        "                x_out_of_bag.append(x[i])\n",
        "                y_out_of_bag.append(y[i])\n",
        "\n",
        "        return (x_new, y_new), (x_out_of_bag, y_out_of_bag)\n",
        "\n",
        "    def predict(self, x):\n",
        "        ones = sum([tree.predict(x) for tree in self.trees])\n",
        "        zeros = len(self.trees) - ones\n",
        "        return 1 if ones > zeros else 0\n",
        "\n",
        "    def score(self, x, y):\n",
        "        success = 0\n",
        "        for i in range(len(x)):\n",
        "            success += 1 if y[i] == self.predict(x[i]) else 0\n",
        "\n",
        "        return success / len(x)\n",
        "\n",
        "    def precision(self, x, y):\n",
        "        truepos = 0\n",
        "        falsepos = 0\n",
        "        for i in range(len(x)):\n",
        "            truepos += 1 if (y[i] == self.predict(x[i]) and self.predict(x[i]) == 1)  else 0\n",
        "            falsepos += 1 if (y[i] == 0 and self.predict(x[i]) == 1) else 0\n",
        "        return (truepos /(truepos + falsepos))*1 "
      ],
      "id": "characteristic-wayne",
      "execution_count": 109,
      "outputs": []
    },
    {
      "cell_type": "code",
      "metadata": {
        "id": "excess-portland"
      },
      "source": [
        "class ExtraRandomForest:\n",
        "    def __init__(self):\n",
        "        pass\n",
        "\n",
        "    def find_best_random_forest(self, x, y, usable_columns_range:range, n_trees=100, max_tree_depth=5):\n",
        "        best_accuracy = 0\n",
        "        best_random_forest = None\n",
        "        \n",
        "        for usable_column in usable_columns_range:\n",
        "            #print(f'building forest with {usable_column} columns')\n",
        "            forest = RandomForest(usable_column, n_trees, max_tree_depth)\n",
        "            forest.fit(x, y)\n",
        "            #print(f'{forest.accuracy=}')\n",
        "            if forest.accuracy > best_accuracy:\n",
        "                best_random_forest = forest\n",
        "                best_accuracy = forest.accuracy\n",
        "    \n",
        "        return best_random_forest"
      ],
      "id": "excess-portland",
      "execution_count": 110,
      "outputs": []
    },
    {
      "cell_type": "code",
      "metadata": {
        "id": "alike-temperature",
        "outputId": "bfad6c1f-3ce4-434b-fd8d-dbc6d99f4476",
        "colab": {
          "base_uri": "https://localhost:8080/"
        }
      },
      "source": [
        "erf = ExtraRandomForest()\n",
        "cols = int(math.sqrt(len(X_train[0])))\n",
        "cols_bottom = max(0, cols-2)\n",
        "cols_top = min(len(X_train[0]), cols+6)\n",
        "\n",
        "print([*range(cols_bottom, cols_top)])\n",
        "\n",
        "best_random_forest = None\n"
      ],
      "id": "alike-temperature",
      "execution_count": 111,
      "outputs": [
        {
          "output_type": "stream",
          "name": "stdout",
          "text": [
            "[1, 2, 3, 4, 5, 6, 7, 8]\n"
          ]
        }
      ]
    },
    {
      "cell_type": "code",
      "metadata": {
        "id": "sv-H6QKmLCpI",
        "outputId": "c063914c-920f-4fd3-92db-55aee08738ef",
        "colab": {
          "base_uri": "https://localhost:8080/"
        }
      },
      "source": [
        "def test_forest(trees, depth):\n",
        "    global best_random_forest\n",
        "    best_random_forest = erf.find_best_random_forest(X_train, Y_train, range(cols_bottom, cols_top), \n",
        "                                                 n_trees=trees, max_tree_depth=depth)\n",
        "    n_trees=trees\n",
        "    max_tree_depth=depth\n",
        "    accuracy = best_random_forest.score(X_test, Y_test)\n",
        "    precision = best_random_forest.precision(X_test, Y_test)\n",
        "    print(f'trees={n_trees}, depth={max_tree_depth}, precision ={precision*100}% accuracy={accuracy*100}%')\n",
        "\n",
        "    \n",
        "test_forest(100, 5)\n",
        "test_forest(100, 7)\n",
        "test_forest(100, 9)\n",
        "test_forest(300, 5)"
      ],
      "id": "sv-H6QKmLCpI",
      "execution_count": 116,
      "outputs": [
        {
          "output_type": "stream",
          "name": "stdout",
          "text": [
            "trees=100, depth=5, precision =72.72727272727273% accuracy=84.0%\n",
            "trees=100, depth=7, precision =57.14285714285714% accuracy=76.0%\n",
            "trees=100, depth=9, precision =57.14285714285714% accuracy=76.0%\n",
            "trees=300, depth=5, precision =72.72727272727273% accuracy=84.0%\n"
          ]
        }
      ]
    },
    {
      "cell_type": "code",
      "metadata": {
        "id": "clinical-encoding",
        "outputId": "84a1f200-5f74-4a57-d17f-0510d40f55da",
        "colab": {
          "base_uri": "https://localhost:8080/"
        }
      },
      "source": [
        "accuracy = best_random_forest.score(X_test, Y_test)\n",
        "precision = best_random_forest.precision(X_test, Y_test)\n",
        "\n",
        "print(f'precision ={precision*100}% accuracy={accuracy*100}%')\n"
      ],
      "id": "clinical-encoding",
      "execution_count": 113,
      "outputs": [
        {
          "output_type": "stream",
          "name": "stdout",
          "text": [
            "precision =60.0% accuracy=76.0%\n"
          ]
        }
      ]
    },
    {
      "cell_type": "markdown",
      "metadata": {
        "id": "institutional-staff"
      },
      "source": [
        "### Sklearn"
      ],
      "id": "institutional-staff"
    },
    {
      "cell_type": "markdown",
      "metadata": {
        "id": "scenic-webmaster"
      },
      "source": [
        "#### Logistic regression"
      ],
      "id": "scenic-webmaster"
    },
    {
      "cell_type": "code",
      "metadata": {
        "id": "large-update",
        "outputId": "5691caa4-8c81-4220-8b9c-83659a15e8e7",
        "colab": {
          "base_uri": "https://localhost:8080/"
        }
      },
      "source": [
        "from sklearn.linear_model import LogisticRegression\n",
        "from sklearn.metrics import classification_report\n",
        "lr1 = LogisticRegression(max_iter=1000).fit(X_train, Y_train)\n",
        "print(f'accuracy = {lr1.score(X_test, Y_test)*100}%')"
      ],
      "id": "large-update",
      "execution_count": 136,
      "outputs": [
        {
          "output_type": "stream",
          "name": "stdout",
          "text": [
            "accuracy = 92.0%\n"
          ]
        }
      ]
    },
    {
      "cell_type": "markdown",
      "metadata": {
        "id": "fossil-match"
      },
      "source": [
        "#### Decision Tree"
      ],
      "id": "fossil-match"
    },
    {
      "cell_type": "code",
      "metadata": {
        "id": "native-bristol",
        "outputId": "fddf2536-eed5-4019-c267-37a8ab7d01fc",
        "colab": {
          "base_uri": "https://localhost:8080/"
        }
      },
      "source": [
        "from sklearn.tree import DecisionTreeClassifier\n",
        "\n",
        "def test_tree(depth):\n",
        "    tree1 = DecisionTreeClassifier(max_depth=depth).fit(X_train, Y_train)\n",
        "    print(f'depth={depth}, accuracy = {tree1.score(X_test, Y_test)*100}%')\n",
        "test_tree(1)\n",
        "test_tree(2)\n",
        "test_tree(3)\n",
        "test_tree(4)\n",
        "test_tree(5)\n",
        "test_tree(6)\n",
        "test_tree(7)"
      ],
      "id": "native-bristol",
      "execution_count": 133,
      "outputs": [
        {
          "output_type": "stream",
          "name": "stdout",
          "text": [
            "depth=1, accuracy = 72.0%\n",
            "depth=2, accuracy = 72.0%\n",
            "depth=3, accuracy = 86.0%\n",
            "depth=4, accuracy = 86.0%\n",
            "depth=5, accuracy = 88.0%\n",
            "depth=6, accuracy = 74.0%\n",
            "depth=7, accuracy = 86.0%\n"
          ]
        }
      ]
    },
    {
      "cell_type": "markdown",
      "metadata": {
        "id": "indian-realtor"
      },
      "source": [
        "#### Random Forest"
      ],
      "id": "indian-realtor"
    },
    {
      "cell_type": "code",
      "metadata": {
        "id": "incoming-friendly",
        "outputId": "09d66544-1b87-4206-9ea3-57e5bbee521b",
        "colab": {
          "base_uri": "https://localhost:8080/"
        }
      },
      "source": [
        "from sklearn.ensemble import RandomForestClassifier\n",
        "\n",
        "def test_forest(trees, depth):\n",
        "    print(f'trees={trees}, depth={depth}, accuracy = {RandomForestClassifier(max_depth=depth, n_estimators=trees).fit(X_train, Y_train).score(X_test, Y_test)*100}%')\n",
        "\n",
        "\n",
        "test_forest(100, 5)\n",
        "test_forest(100, 7)\n",
        "test_forest(100, 9)\n",
        "test_forest(300, 5)"
      ],
      "id": "incoming-friendly",
      "execution_count": 134,
      "outputs": [
        {
          "output_type": "stream",
          "name": "stdout",
          "text": [
            "trees=100, depth=5, accuracy = 86.0%\n",
            "trees=100, depth=7, accuracy = 88.0%\n",
            "trees=100, depth=9, accuracy = 86.0%\n",
            "trees=300, depth=5, accuracy = 86.0%\n"
          ]
        }
      ]
    }
  ]
}